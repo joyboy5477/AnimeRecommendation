{
 "cells": [
  {
   "cell_type": "code",
   "execution_count": 1,
   "id": "82fa411e",
   "metadata": {},
   "outputs": [],
   "source": [
    "#conda env list"
   ]
  },
  {
   "cell_type": "code",
   "execution_count": 2,
   "id": "df1ad71c",
   "metadata": {},
   "outputs": [],
   "source": [
    "#pip list"
   ]
  },
  {
   "cell_type": "markdown",
   "id": "30443bb5",
   "metadata": {},
   "source": [
    "### Import OpenAI ket it is in folder name apikey"
   ]
  },
  {
   "cell_type": "code",
   "execution_count": 3,
   "id": "3a4ceedf",
   "metadata": {},
   "outputs": [],
   "source": [
    "#from apikey import openapikey\n",
    "#import os\n",
    "#os.environ[\"OPENAI_API_KEY\"] = openapikey"
   ]
  },
  {
   "cell_type": "code",
   "execution_count": 26,
   "id": "d5a8e7bd",
   "metadata": {},
   "outputs": [],
   "source": [
    "#you can directly do this but its not safe\n",
    "import os\n",
    "#os.environ['OPENAI_API_KEY'] = \"ENter your key here\""
   ]
  },
  {
   "cell_type": "code",
   "execution_count": 5,
   "id": "58e242d1",
   "metadata": {},
   "outputs": [],
   "source": [
    "#from langchain.llms import OpenAI\n",
    "\n",
    "#llm = OpenAI(temperature = 0.6)\n",
    "#name = llm(\"can you suggest a best isekai anime name?\")\n",
    "#print(name)"
   ]
  },
  {
   "cell_type": "code",
   "execution_count": 16,
   "id": "a03b08f3",
   "metadata": {},
   "outputs": [],
   "source": [
    "from langchain.llms import OpenAI\n",
    "from langchain.prompts import PromptTemplate\n",
    "from langchain.chains import LLMChain\n",
    "llm = OpenAI(temperature = 0.6)\n",
    "\n",
    "suggest_anime_name = PromptTemplate(\n",
    "    input_variables = [\"genre\"],\n",
    "    template = \"Suggest a best {genre}.\"\n",
    ")\n",
    "\n",
    "anime_name = LLMChain(llm = llm,prompt = suggest_anime_name, output_key = \"anime_name\")\n",
    "\n",
    "plot = PromptTemplate(\n",
    "    input_variables = [\"anime_name\"],\n",
    "    template = \"Plot of {anime_name} anime.\"\n",
    ")\n",
    "\n",
    "story = LLMChain(llm = llm, prompt = plot, output_key = \"desc\")"
   ]
  },
  {
   "cell_type": "code",
   "execution_count": 15,
   "id": "9d0bc721",
   "metadata": {},
   "outputs": [
    {
     "data": {
      "text/plain": [
       "{'genre': 'isekai',\n",
       " 'anime_name': '\\n\\nRe:Zero - Starting Life in Another World.',\n",
       " 'desc': '\\n\\nRe:Zero - Starting Life in Another World follows Subaru Natsuki, a young man who is suddenly transported to a fantasy world. After meeting a mysterious girl, he discovers that he has the ability to “Return by Death”, which allows him to travel back in time and attempt to alter his fate. With the help of his newfound allies, Subaru embarks on a quest to save the kingdom of Lugunica from the wicked Witch of Envy. Along the way, he learns of the truth behind his powers and must confront his own demons in order to save the people he loves.'}"
      ]
     },
     "execution_count": 15,
     "metadata": {},
     "output_type": "execute_result"
    }
   ],
   "source": [
    "from langchain.chains import SequentialChain\n",
    "\n",
    "chain = SequentialChain(\n",
    "    chains = [anime_name,story],\n",
    "    input_variables = [\"genre\"],\n",
    "    output_variables = [\"anime_name\",\"desc\"]\n",
    ")\n",
    "chain({\"genre\" : \"isekai\"})"
   ]
  },
  {
   "cell_type": "code",
   "execution_count": 20,
   "id": "d2c62598",
   "metadata": {},
   "outputs": [],
   "source": [
    "suggest_anime_name = PromptTemplate(\n",
    "        input_variables=[\"genre\"],\n",
    "        template=\"Suggest a best {genre} anime.\"\n",
    "    )\n",
    "\n",
    "anime_name = LLMChain(llm=llm, prompt=suggest_anime_name, output_key=\"anime_name\")\n",
    "\n",
    "    # desc chain 2\n",
    "plot = PromptTemplate(\n",
    "        input_variables=[\"anime_name\"],\n",
    "        template=\"\"\"Plot of {anime_name} anime.\"\"\"\n",
    "    )\n",
    "\n",
    "story = LLMChain(llm=llm, prompt=plot, output_key=\"desc\")\n",
    "\n",
    "chain = SequentialChain(\n",
    "        chains=[anime_name, story],\n",
    "        input_variables=[\"genre\"],\n",
    "        output_variables=[\"anime_name\", \"desc\"]\n",
    "    )\n",
    "response = chain({\"genre\": \"Isekai\"})"
   ]
  },
  {
   "cell_type": "code",
   "execution_count": 22,
   "id": "d6fd2381",
   "metadata": {},
   "outputs": [
    {
     "data": {
      "text/plain": [
       "{'genre': 'Isekai',\n",
       " 'anime_name': \"\\n\\nMy top pick would be KonoSuba: God's Blessing on this Wonderful World! It's a comedy adventure series that follows Kazuma Satō, a shut-in NEET who is reincarnated in another world. He teams up with a goddess, a wizard, and a crusader to form a party and conquer dungeons. It's full of hilarious moments and great characters and is sure to bring a smile to your face.\",\n",
       " 'desc': ''}"
      ]
     },
     "execution_count": 22,
     "metadata": {},
     "output_type": "execute_result"
    }
   ],
   "source": [
    "response"
   ]
  },
  {
   "cell_type": "code",
   "execution_count": 31,
   "id": "f88e9765",
   "metadata": {},
   "outputs": [
    {
     "name": "stdout",
     "output_type": "stream",
     "text": [
      "\n",
      "\n",
      "\u001b[1m> Entering new AgentExecutor chain...\u001b[0m\n",
      "\u001b[32;1m\u001b[1;3m I need to look up the first air date and then calculate the number of years it has been running.\n",
      "Action: Wikipedia\n",
      "Action Input: One Piece anime\u001b[0m\n",
      "Observation: \u001b[36;1m\u001b[1;3mPage: One Piece (TV series)\n",
      "Summary: One Piece (stylized in all caps) is a Japanese anime television series produced by Toei Animation that premiered on Fuji TV in October 1999. It is based on Eiichiro Oda's manga series of the same name. The story follows the adventures of Monkey D. Luffy, a boy whose body gained the properties of rubber after unintentionally eating a Devil Fruit. With his crew of pirates, named the Straw Hat Pirates, Luffy explores the Grand Line in search of the world's ultimate treasure known as \"One Piece\" in order to become the next Pirate King.\n",
      "Since its premiere in Japan, over 1000 episodes have been aired, and later exported to various countries around the world.\n",
      "\n",
      "\n",
      "\n",
      "Page: One Piece\n",
      "Summary: One Piece (stylized in all caps) is a Japanese manga series written and illustrated by Eiichiro Oda. It has been serialized in Shueisha's shōnen manga magazine Weekly Shōnen Jump since July 1997, with its individual chapters compiled into 106 tankōbon volumes as of July 2023. The story follows the adventures of Monkey D. Luffy and his crew, the Straw Hat Pirates, where he explores the Grand Line in search of the mythical treasure known as the \"One Piece\" in order to become the next King of the Pirates.\n",
      "The manga spawned a media franchise, having been adapted into a festival film produced by Production I.G, and an anime series produced by Toei Animation, which began broadcasting in 1999. Additionally, Toei has developed fourteen animated feature films, one original video animation, and thirteen television specials. Several companies have developed various types of merchandising and media, such as a trading card game and numerous video games. The manga series was licensed for an English language release in North America and the United Kingdom by Viz Media and in Australia by Madman Entertainment. The anime series was licensed by 4Kids Entertainment for an English-language release in North America in 2004 before the license was dropped and subsequently acquired by Funimation in 2007.\n",
      "One Piece has received praise for its storytelling, world-building, art, characterization, and humor. It has received many awards and is ranked by critics, reviewers, and readers as one of the best manga of all time. As of August 2022, it had over 516.6 million copies in circulation in 61 countries and regions worldwide, making it the best-selling manga series in history, and the best-selling comic series printed in book volume. Several volumes of the manga have broken publishing records, including the highest initial print run of any book in Japan. In 2015 and 2022, One Piece set the Guinness World Record for \"the most copies published for the same comic book series by a single author\". It was the best-selling manga for eleven consecutive years from 2008 to 2018, and is the only manga that had an initial print of volumes of above 3 million continuously for more than 10 years, as well as the only that had achieved more than 1 million copies sold in all of its over 100 published tankōbon volumes. One Piece is the only manga whose volumes have ranked first every year in Oricon's weekly comic chart existence since 2008.\n",
      "\n",
      "Page: One Piece (season 20)\n",
      "Summary: The twentieth season of the One Piece anime series was produced by Toei Animation, directed by Tatsuya Nagamine and Satoshi Ito. The season began broadcasting in Japan on Fuji Television on July 7, 2019. On April 19, 2020, Toei Animation announced that the series would be delayed due to the ongoing COVID-19 pandemic. They later scheduled the series' return for June 28, 2020, resuming from episode 930. On March 10, 2022, it was announced that the series would be delayed until further notice due to Toei Animation's network being hacked on March 6, 2022. On April 5, 2022, it was announced that the series would return on April 17, 2022, with the airing of episode 1014.Like the rest of the series, this season follows the adventures of Monkey D. Luffy and his Straw Hat Pirates. The main story a\u001b[0m\n",
      "Thought:\u001b[32;1m\u001b[1;3m I now know the first air date and the number of years it has been running.\n",
      "Action: Calculator\n",
      "Action Input: October 1999 to April 2023\u001b[0m\n",
      "Observation: \u001b[33;1m\u001b[1;3mAnswer: 282\u001b[0m\n",
      "Thought:"
     ]
    },
    {
     "name": "stderr",
     "output_type": "stream",
     "text": [
      "Retrying langchain.llms.openai.completion_with_retry.<locals>._completion_with_retry in 4.0 seconds as it raised RateLimitError: Rate limit reached for default-text-davinci-003 in organization org-tGDyAxUcsZld0WIe0h0GANMx on requests per min. Limit: 3 / min. Please try again in 20s. Contact us through our help center at help.openai.com if you continue to have issues. Please add a payment method to your account to increase your rate limit. Visit https://platform.openai.com/account/billing to add a payment method..\n",
      "Retrying langchain.llms.openai.completion_with_retry.<locals>._completion_with_retry in 4.0 seconds as it raised RateLimitError: Rate limit reached for default-text-davinci-003 in organization org-tGDyAxUcsZld0WIe0h0GANMx on requests per min. Limit: 3 / min. Please try again in 20s. Contact us through our help center at help.openai.com if you continue to have issues. Please add a payment method to your account to increase your rate limit. Visit https://platform.openai.com/account/billing to add a payment method..\n",
      "Retrying langchain.llms.openai.completion_with_retry.<locals>._completion_with_retry in 4.0 seconds as it raised RateLimitError: Rate limit reached for default-text-davinci-003 in organization org-tGDyAxUcsZld0WIe0h0GANMx on requests per min. Limit: 3 / min. Please try again in 20s. Contact us through our help center at help.openai.com if you continue to have issues. Please add a payment method to your account to increase your rate limit. Visit https://platform.openai.com/account/billing to add a payment method..\n"
     ]
    },
    {
     "name": "stdout",
     "output_type": "stream",
     "text": [
      "\u001b[32;1m\u001b[1;3m I now know the final answer.\n",
      "Final Answer: One Piece anime was launched in October 1999 and has been running for over 282 years in 2023.\u001b[0m\n",
      "\n",
      "\u001b[1m> Finished chain.\u001b[0m\n"
     ]
    },
    {
     "data": {
      "text/plain": [
       "'One Piece anime was launched in October 1999 and has been running for over 282 years in 2023.'"
      ]
     },
     "execution_count": 31,
     "metadata": {},
     "output_type": "execute_result"
    }
   ],
   "source": [
    "from langchain.agents import AgentType, initialize_agent, load_tools\n",
    "from langchain.llms import OpenAI\n",
    "\n",
    "tools = load_tools([\"wikipedia\",\"llm-math\"],llm = llm)\n",
    "\n",
    "agent = initialize_agent(\n",
    "    tools,\n",
    "    llm,\n",
    "    agent = AgentType.ZERO_SHOT_REACT_DESCRIPTION,\n",
    "    verbose = True\n",
    ")\n",
    "\n",
    "agent.run(\"When was One Piece anime lauched? How long has it been runnig in 2023?\")"
   ]
  },
  {
   "cell_type": "markdown",
   "id": "7fca3641",
   "metadata": {},
   "source": [
    "# serpapi"
   ]
  },
  {
   "cell_type": "code",
   "execution_count": 35,
   "id": "38a2666c",
   "metadata": {},
   "outputs": [],
   "source": [
    "# serpapi key\n",
    "os.environ[\"SERPAPI_API_KEY\"] = \"Enter key here\"\n"
   ]
  },
  {
   "cell_type": "code",
   "execution_count": 37,
   "id": "be01ef99",
   "metadata": {},
   "outputs": [
    {
     "name": "stderr",
     "output_type": "stream",
     "text": [
      "Retrying langchain.llms.openai.completion_with_retry.<locals>._completion_with_retry in 4.0 seconds as it raised RateLimitError: Rate limit reached for default-text-davinci-003 in organization org-tGDyAxUcsZld0WIe0h0GANMx on requests per min. Limit: 3 / min. Please try again in 20s. Contact us through our help center at help.openai.com if you continue to have issues. Please add a payment method to your account to increase your rate limit. Visit https://platform.openai.com/account/billing to add a payment method..\n",
      "Retrying langchain.llms.openai.completion_with_retry.<locals>._completion_with_retry in 4.0 seconds as it raised RateLimitError: Rate limit reached for default-text-davinci-003 in organization org-tGDyAxUcsZld0WIe0h0GANMx on requests per min. Limit: 3 / min. Please try again in 20s. Contact us through our help center at help.openai.com if you continue to have issues. Please add a payment method to your account to increase your rate limit. Visit https://platform.openai.com/account/billing to add a payment method..\n",
      "Retrying langchain.llms.openai.completion_with_retry.<locals>._completion_with_retry in 4.0 seconds as it raised RateLimitError: Rate limit reached for default-text-davinci-003 in organization org-tGDyAxUcsZld0WIe0h0GANMx on requests per min. Limit: 3 / min. Please try again in 20s. Contact us through our help center at help.openai.com if you continue to have issues. Please add a payment method to your account to increase your rate limit. Visit https://platform.openai.com/account/billing to add a payment method..\n"
     ]
    },
    {
     "data": {
      "text/plain": [
       "'One Piece anime was launched in 2005 and has been running for 18 years in 2023.'"
      ]
     },
     "execution_count": 37,
     "metadata": {},
     "output_type": "execute_result"
    }
   ],
   "source": [
    "tools = load_tools([\"serpapi\",\"llm-math\"],llm=llm)\n",
    "agent = initialize_agent(tools,llm,agent = AgentType.ZERO_SHOT_REACT_DESCRIPTION)\n",
    "agent.run(\"When was One Piece anime lauched? How long has it been runnig in 2023?\")"
   ]
  },
  {
   "cell_type": "code",
   "execution_count": null,
   "id": "60f7eaae",
   "metadata": {},
   "outputs": [],
   "source": []
  },
  {
   "cell_type": "markdown",
   "id": "2ff1bfa0",
   "metadata": {},
   "source": [
    "# Memory\n",
    "By default llm is stateless i.e it has no memory"
   ]
  },
  {
   "cell_type": "code",
   "execution_count": 38,
   "id": "ce96a39a",
   "metadata": {},
   "outputs": [],
   "source": [
    "# type(chain.memory) it will give nothing"
   ]
  },
  {
   "cell_type": "code",
   "execution_count": 43,
   "id": "1430197a",
   "metadata": {},
   "outputs": [],
   "source": [
    "suggest_anime_name2 = PromptTemplate(\n",
    "    input_variables = [\"genre\"],\n",
    "    template = \"Suggest a best {genre}.\"\n",
    ")\n",
    "\n",
    "anime_name = LLMChain(llm = llm,prompt = suggest_anime_name2)"
   ]
  },
  {
   "cell_type": "code",
   "execution_count": 45,
   "id": "fad9a844",
   "metadata": {},
   "outputs": [
    {
     "name": "stdout",
     "output_type": "stream",
     "text": [
      "\n",
      "\n",
      "Re:Zero – Starting Life in Another World.\n"
     ]
    }
   ],
   "source": [
    "#but you can use conversational buffer\n",
    "from langchain.memory import ConversationBufferMemory\n",
    "\n",
    "memory = ConversationBufferMemory()\n",
    "\n",
    "anime_name = LLMChain(llm=llm, prompt=suggest_anime_name2, memory = memory)\n",
    "name = anime_name.run(\"Isekai\")\n",
    "print(name)"
   ]
  },
  {
   "cell_type": "code",
   "execution_count": 48,
   "id": "4a55dc0d",
   "metadata": {},
   "outputs": [
    {
     "name": "stdout",
     "output_type": "stream",
     "text": [
      "Human: Isekai\n",
      "AI: \n",
      "\n",
      "Re:Zero – Starting Life in Another World.\n"
     ]
    }
   ],
   "source": [
    "print(anime_name.memory.buffer)"
   ]
  },
  {
   "cell_type": "markdown",
   "id": "272fdcd8",
   "metadata": {},
   "source": [
    "# Conversational Chain for Human and AI CHAT\n",
    "ConversationChain has bydefault memory impresiive !!"
   ]
  },
  {
   "cell_type": "code",
   "execution_count": 50,
   "id": "9fc521f2",
   "metadata": {},
   "outputs": [
    {
     "name": "stdout",
     "output_type": "stream",
     "text": [
      "The following is a friendly conversation between a human and an AI. The AI is talkative and provides lots of specific details from its context. If the AI does not know the answer to a question, it truthfully says it does not know.\n",
      "\n",
      "Current conversation:\n",
      "{history}\n",
      "Human: {input}\n",
      "AI:\n"
     ]
    }
   ],
   "source": [
    "from langchain.chains import ConversationChain\n",
    "\n",
    "convo = ConversationChain(\n",
    "llm = OpenAI(temperature = 0.6)\n",
    ")\n",
    "\n",
    "print(convo.prompt.template)"
   ]
  },
  {
   "cell_type": "code",
   "execution_count": 51,
   "id": "d5aa08c2",
   "metadata": {},
   "outputs": [
    {
     "data": {
      "text/plain": [
       "\" That's a tough question! It really depends on your personal preference. Some anime series are more popular than others, but it's hard to say which is the absolute best. Do you have a favorite anime?\""
      ]
     },
     "execution_count": 51,
     "metadata": {},
     "output_type": "execute_result"
    }
   ],
   "source": [
    "convo.run(\"Which anime is best?\")"
   ]
  },
  {
   "cell_type": "code",
   "execution_count": 52,
   "id": "0b8985f6",
   "metadata": {},
   "outputs": [
    {
     "data": {
      "text/plain": [
       "\" Sure! One of my favorite anime series is Fullmetal Alchemist. It has an interesting plot with lots of action and adventure. It follows the story of two brothers, Edward and Alphonse Elric, who are on a quest to restore their bodies after a failed attempt to bring their dead mother back to life. It's a fantastic series with great characters and a captivating story.\""
      ]
     },
     "execution_count": 52,
     "metadata": {},
     "output_type": "execute_result"
    }
   ],
   "source": [
    "convo.run(\"name any one?\")"
   ]
  },
  {
   "cell_type": "code",
   "execution_count": 53,
   "id": "ae5d8872",
   "metadata": {},
   "outputs": [
    {
     "data": {
      "text/plain": [
       "ConversationBufferMemory(chat_memory=ChatMessageHistory(messages=[HumanMessage(content='Which anime is best?', additional_kwargs={}, example=False), AIMessage(content=\" That's a tough question! It really depends on your personal preference. Some anime series are more popular than others, but it's hard to say which is the absolute best. Do you have a favorite anime?\", additional_kwargs={}, example=False), HumanMessage(content='name any one?', additional_kwargs={}, example=False), AIMessage(content=\" Sure! One of my favorite anime series is Fullmetal Alchemist. It has an interesting plot with lots of action and adventure. It follows the story of two brothers, Edward and Alphonse Elric, who are on a quest to restore their bodies after a failed attempt to bring their dead mother back to life. It's a fantastic series with great characters and a captivating story.\", additional_kwargs={}, example=False)]), output_key=None, input_key=None, return_messages=False, human_prefix='Human', ai_prefix='AI', memory_key='history')"
      ]
     },
     "execution_count": 53,
     "metadata": {},
     "output_type": "execute_result"
    }
   ],
   "source": [
    "convo.memory"
   ]
  },
  {
   "cell_type": "code",
   "execution_count": 54,
   "id": "adc2c932",
   "metadata": {},
   "outputs": [
    {
     "name": "stdout",
     "output_type": "stream",
     "text": [
      "Human: Which anime is best?\n",
      "AI:  That's a tough question! It really depends on your personal preference. Some anime series are more popular than others, but it's hard to say which is the absolute best. Do you have a favorite anime?\n",
      "Human: name any one?\n",
      "AI:  Sure! One of my favorite anime series is Fullmetal Alchemist. It has an interesting plot with lots of action and adventure. It follows the story of two brothers, Edward and Alphonse Elric, who are on a quest to restore their bodies after a failed attempt to bring their dead mother back to life. It's a fantastic series with great characters and a captivating story.\n"
     ]
    }
   ],
   "source": [
    "print(convo.memory.buffer)"
   ]
  },
  {
   "cell_type": "code",
   "execution_count": 55,
   "id": "6da65e47",
   "metadata": {},
   "outputs": [],
   "source": [
    "# 1000 words conversation can cost 0.001 better to use ConversationBufferWindowMemory"
   ]
  },
  {
   "cell_type": "code",
   "execution_count": 57,
   "id": "e0e694a9",
   "metadata": {},
   "outputs": [
    {
     "data": {
      "text/plain": [
       "' That\\'s a tough question! I\\'m not sure which anime is best for pirate isekai and adventure. However, I can suggest a few that might fit the bill. One option is \"One Piece,\" which follows the adventures of the Straw Hat Pirates. Another is \"Log Horizon,\" which follows a group of players trapped in the world of a popular MMORPG. Finally, \"Kaze no Stigma\" follows the adventures of a powerful wind spirit. I hope one of these works for you!'"
      ]
     },
     "execution_count": 57,
     "metadata": {},
     "output_type": "execute_result"
    }
   ],
   "source": [
    "from langchain.memory import ConversationBufferWindowMemory\n",
    "\n",
    "memory = ConversationBufferWindowMemory(k=1)\n",
    "\n",
    "convo = ConversationChain(\n",
    "llm = OpenAI(temperature = 0.6),\n",
    "    memory = memory\n",
    ")\n",
    "convo.run(\"Which anime is best of pirate isekai and some adventure just give me name?\")"
   ]
  },
  {
   "cell_type": "code",
   "execution_count": 58,
   "id": "7fb8aec5",
   "metadata": {},
   "outputs": [
    {
     "data": {
      "text/plain": [
       "\" One Piece is a popular anime that follows the adventures of the Straw Hat Pirates. It is set in a world of pirates, samurais, and other adventurers, and it follows the crew's journey to find the legendary treasure known as the One Piece. The series has been running since 1999 and has over 900 episodes. It is widely considered one of the best anime of all time.\""
      ]
     },
     "execution_count": 58,
     "metadata": {},
     "output_type": "execute_result"
    }
   ],
   "source": [
    "convo.run(\"what about One piece?\")"
   ]
  },
  {
   "cell_type": "code",
   "execution_count": 59,
   "id": "ad00777f",
   "metadata": {},
   "outputs": [
    {
     "data": {
      "text/plain": [
       "\" The author of One Piece is Eiichiro Oda. He began working on the series in 1997 and it has been serialized in Shueisha's Weekly Shonen Jump magazine since July 1997.\""
      ]
     },
     "execution_count": 59,
     "metadata": {},
     "output_type": "execute_result"
    }
   ],
   "source": [
    "convo.run(\"who is the author but?\")"
   ]
  },
  {
   "cell_type": "code",
   "execution_count": 60,
   "id": "12277467",
   "metadata": {},
   "outputs": [
    {
     "data": {
      "text/plain": [
       "' One Piece is currently the best-selling manga series of all time, having sold over 462 million copies worldwide. It has spawned an anime series, several movies, video games, and a variety of other merchandise. The story follows the adventures of Monkey D. Luffy, a young pirate who dreams of finding the legendary One Piece treasure and becoming the Pirate King.'"
      ]
     },
     "execution_count": 60,
     "metadata": {},
     "output_type": "execute_result"
    }
   ],
   "source": [
    "convo.run(\"tell me some more\")"
   ]
  },
  {
   "cell_type": "code",
   "execution_count": null,
   "id": "d37e44e0",
   "metadata": {},
   "outputs": [],
   "source": []
  }
 ],
 "metadata": {
  "kernelspec": {
   "display_name": "Python 3 (ipykernel)",
   "language": "python",
   "name": "python3"
  },
  "language_info": {
   "codemirror_mode": {
    "name": "ipython",
    "version": 3
   },
   "file_extension": ".py",
   "mimetype": "text/x-python",
   "name": "python",
   "nbconvert_exporter": "python",
   "pygments_lexer": "ipython3",
   "version": "3.11.4"
  }
 },
 "nbformat": 4,
 "nbformat_minor": 5
}
